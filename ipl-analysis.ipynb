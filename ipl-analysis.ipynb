{
 "cells": [
  {
   "cell_type": "code",
   "execution_count": 1,
   "id": "dadfeff9",
   "metadata": {
    "_cell_guid": "b1076dfc-b9ad-4769-8c92-a6c4dae69d19",
    "_uuid": "8f2839f25d086af736a60e9eeb907d3b93b6e0e5",
    "execution": {
     "iopub.execute_input": "2022-03-28T20:17:54.240523Z",
     "iopub.status.busy": "2022-03-28T20:17:54.238701Z",
     "iopub.status.idle": "2022-03-28T20:17:54.259395Z",
     "shell.execute_reply": "2022-03-28T20:17:54.260346Z",
     "shell.execute_reply.started": "2022-03-28T19:38:55.771337Z"
    },
    "papermill": {
     "duration": 0.041351,
     "end_time": "2022-03-28T20:17:54.260697",
     "exception": false,
     "start_time": "2022-03-28T20:17:54.219346",
     "status": "completed"
    },
    "tags": []
   },
   "outputs": [
    {
     "name": "stdout",
     "output_type": "stream",
     "text": [
      "/kaggle/input/ipl-2008-to-2021-all-match-dataset/IPL_Ball_by_Ball_2008_2021.csv\n",
      "/kaggle/input/ipl-2008-to-2021-all-match-dataset/IPL_Matches_2008_2021.csv\n"
     ]
    }
   ],
   "source": [
    "# This Python 3 environment comes with many helpful analytics libraries installed\n",
    "# It is defined by the kaggle/python Docker image: https://github.com/kaggle/docker-python\n",
    "# For example, here's several helpful packages to load\n",
    "\n",
    "import numpy as np # linear algebra\n",
    "import pandas as pd # data processing, CSV file I/O (e.g. pd.read_csv)\n",
    "\n",
    "# Input data files are available in the read-only \"../input/\" directory\n",
    "# For example, running this (by clicking run or pressing Shift+Enter) will list all files under the input directory\n",
    "\n",
    "import os\n",
    "for dirname, _, filenames in os.walk('/kaggle/input'):\n",
    "    for filename in filenames:\n",
    "        print(os.path.join(dirname, filename))\n",
    "\n",
    "# You can write up to 20GB to the current directory (/kaggle/working/) that gets preserved as output when you create a version using \"Save & Run All\" \n",
    "# You can also write temporary files to /kaggle/temp/, but they won't be saved outside of the current session"
   ]
  },
  {
   "cell_type": "markdown",
   "id": "76288b77",
   "metadata": {
    "papermill": {
     "duration": 0.013739,
     "end_time": "2022-03-28T20:17:54.289253",
     "exception": false,
     "start_time": "2022-03-28T20:17:54.275514",
     "status": "completed"
    },
    "tags": []
   },
   "source": [
    "What is the percentage of wins of each team?\\\n",
    "Which venue results in a win for Batting first team and vice versa?\\\n",
    "Who is the most consistent batsman and bowler in each team and also in the entire league?\\\n",
    "Who wins the most player of the matches in the tournament?\\\n",
    "Predict the winning team with the consistency of wins and ball deliveries?\\\n",
    "Who is the most valuable player of every season?"
   ]
  },
  {
   "cell_type": "markdown",
   "id": "7d788102",
   "metadata": {
    "papermill": {
     "duration": 0.013659,
     "end_time": "2022-03-28T20:17:54.316974",
     "exception": false,
     "start_time": "2022-03-28T20:17:54.303315",
     "status": "completed"
    },
    "tags": []
   },
   "source": [
    "**Import libraries**"
   ]
  },
  {
   "cell_type": "code",
   "execution_count": 2,
   "id": "734bff6d",
   "metadata": {
    "execution": {
     "iopub.execute_input": "2022-03-28T20:17:54.348872Z",
     "iopub.status.busy": "2022-03-28T20:17:54.347909Z",
     "iopub.status.idle": "2022-03-28T20:17:54.352134Z",
     "shell.execute_reply": "2022-03-28T20:17:54.352731Z",
     "shell.execute_reply.started": "2022-03-28T19:42:20.642255Z"
    },
    "papermill": {
     "duration": 0.021745,
     "end_time": "2022-03-28T20:17:54.352903",
     "exception": false,
     "start_time": "2022-03-28T20:17:54.331158",
     "status": "completed"
    },
    "tags": []
   },
   "outputs": [],
   "source": [
    "import pandas as pd\n",
    "import numpy as np\n",
    "import matplotlib.pyplot as plt"
   ]
  },
  {
   "cell_type": "markdown",
   "id": "5e718247",
   "metadata": {
    "papermill": {
     "duration": 0.013909,
     "end_time": "2022-03-28T20:17:54.381567",
     "exception": false,
     "start_time": "2022-03-28T20:17:54.367658",
     "status": "completed"
    },
    "tags": []
   },
   "source": [
    "**Reading the data**"
   ]
  },
  {
   "cell_type": "code",
   "execution_count": 3,
   "id": "0e36378f",
   "metadata": {
    "execution": {
     "iopub.execute_input": "2022-03-28T20:17:54.414562Z",
     "iopub.status.busy": "2022-03-28T20:17:54.413498Z",
     "iopub.status.idle": "2022-03-28T20:17:54.974914Z",
     "shell.execute_reply": "2022-03-28T20:17:54.974318Z",
     "shell.execute_reply.started": "2022-03-28T19:42:58.809264Z"
    },
    "papermill": {
     "duration": 0.579468,
     "end_time": "2022-03-28T20:17:54.975095",
     "exception": false,
     "start_time": "2022-03-28T20:17:54.395627",
     "status": "completed"
    },
    "tags": []
   },
   "outputs": [],
   "source": [
    "balls=pd.read_csv(\"../input/ipl-2008-to-2021-all-match-dataset/IPL_Ball_by_Ball_2008_2021.csv\")\n",
    "matches=pd.read_csv(\"../input/ipl-2008-to-2021-all-match-dataset/IPL_Matches_2008_2021.csv\")"
   ]
  },
  {
   "cell_type": "code",
   "execution_count": 4,
   "id": "660c1724",
   "metadata": {
    "execution": {
     "iopub.execute_input": "2022-03-28T20:17:55.007050Z",
     "iopub.status.busy": "2022-03-28T20:17:55.006441Z",
     "iopub.status.idle": "2022-03-28T20:17:55.031918Z",
     "shell.execute_reply": "2022-03-28T20:17:55.031266Z",
     "shell.execute_reply.started": "2022-03-28T19:43:07.050320Z"
    },
    "papermill": {
     "duration": 0.042252,
     "end_time": "2022-03-28T20:17:55.032079",
     "exception": false,
     "start_time": "2022-03-28T20:17:54.989827",
     "status": "completed"
    },
    "tags": []
   },
   "outputs": [
    {
     "data": {
      "text/html": [
       "<div>\n",
       "<style scoped>\n",
       "    .dataframe tbody tr th:only-of-type {\n",
       "        vertical-align: middle;\n",
       "    }\n",
       "\n",
       "    .dataframe tbody tr th {\n",
       "        vertical-align: top;\n",
       "    }\n",
       "\n",
       "    .dataframe thead th {\n",
       "        text-align: right;\n",
       "    }\n",
       "</style>\n",
       "<table border=\"1\" class=\"dataframe\">\n",
       "  <thead>\n",
       "    <tr style=\"text-align: right;\">\n",
       "      <th></th>\n",
       "      <th>ID</th>\n",
       "      <th>innings</th>\n",
       "      <th>overs</th>\n",
       "      <th>ballnumber</th>\n",
       "      <th>batter</th>\n",
       "      <th>bowler</th>\n",
       "      <th>non-striker</th>\n",
       "      <th>extra_type</th>\n",
       "      <th>batsman_run</th>\n",
       "      <th>extras_run</th>\n",
       "      <th>total_run</th>\n",
       "      <th>non_boundary</th>\n",
       "      <th>isWicketDelivery</th>\n",
       "      <th>player_out</th>\n",
       "      <th>kind</th>\n",
       "      <th>fielders_involved</th>\n",
       "      <th>BattingTeam</th>\n",
       "    </tr>\n",
       "  </thead>\n",
       "  <tbody>\n",
       "    <tr>\n",
       "      <th>0</th>\n",
       "      <td>1254117</td>\n",
       "      <td>1</td>\n",
       "      <td>0</td>\n",
       "      <td>1</td>\n",
       "      <td>RD Gaikwad</td>\n",
       "      <td>Shakib Al Hasan</td>\n",
       "      <td>F du Plessis</td>\n",
       "      <td>NaN</td>\n",
       "      <td>1</td>\n",
       "      <td>0</td>\n",
       "      <td>1</td>\n",
       "      <td>0</td>\n",
       "      <td>0</td>\n",
       "      <td>NaN</td>\n",
       "      <td>NaN</td>\n",
       "      <td>NaN</td>\n",
       "      <td>Chennai Super Kings</td>\n",
       "    </tr>\n",
       "    <tr>\n",
       "      <th>1</th>\n",
       "      <td>1254117</td>\n",
       "      <td>1</td>\n",
       "      <td>0</td>\n",
       "      <td>2</td>\n",
       "      <td>F du Plessis</td>\n",
       "      <td>Shakib Al Hasan</td>\n",
       "      <td>RD Gaikwad</td>\n",
       "      <td>NaN</td>\n",
       "      <td>0</td>\n",
       "      <td>0</td>\n",
       "      <td>0</td>\n",
       "      <td>0</td>\n",
       "      <td>0</td>\n",
       "      <td>NaN</td>\n",
       "      <td>NaN</td>\n",
       "      <td>NaN</td>\n",
       "      <td>Chennai Super Kings</td>\n",
       "    </tr>\n",
       "    <tr>\n",
       "      <th>2</th>\n",
       "      <td>1254117</td>\n",
       "      <td>1</td>\n",
       "      <td>0</td>\n",
       "      <td>3</td>\n",
       "      <td>F du Plessis</td>\n",
       "      <td>Shakib Al Hasan</td>\n",
       "      <td>RD Gaikwad</td>\n",
       "      <td>NaN</td>\n",
       "      <td>1</td>\n",
       "      <td>0</td>\n",
       "      <td>1</td>\n",
       "      <td>0</td>\n",
       "      <td>0</td>\n",
       "      <td>NaN</td>\n",
       "      <td>NaN</td>\n",
       "      <td>NaN</td>\n",
       "      <td>Chennai Super Kings</td>\n",
       "    </tr>\n",
       "    <tr>\n",
       "      <th>3</th>\n",
       "      <td>1254117</td>\n",
       "      <td>1</td>\n",
       "      <td>0</td>\n",
       "      <td>4</td>\n",
       "      <td>RD Gaikwad</td>\n",
       "      <td>Shakib Al Hasan</td>\n",
       "      <td>F du Plessis</td>\n",
       "      <td>NaN</td>\n",
       "      <td>4</td>\n",
       "      <td>0</td>\n",
       "      <td>4</td>\n",
       "      <td>0</td>\n",
       "      <td>0</td>\n",
       "      <td>NaN</td>\n",
       "      <td>NaN</td>\n",
       "      <td>NaN</td>\n",
       "      <td>Chennai Super Kings</td>\n",
       "    </tr>\n",
       "    <tr>\n",
       "      <th>4</th>\n",
       "      <td>1254117</td>\n",
       "      <td>1</td>\n",
       "      <td>0</td>\n",
       "      <td>5</td>\n",
       "      <td>RD Gaikwad</td>\n",
       "      <td>Shakib Al Hasan</td>\n",
       "      <td>F du Plessis</td>\n",
       "      <td>NaN</td>\n",
       "      <td>0</td>\n",
       "      <td>0</td>\n",
       "      <td>0</td>\n",
       "      <td>0</td>\n",
       "      <td>0</td>\n",
       "      <td>NaN</td>\n",
       "      <td>NaN</td>\n",
       "      <td>NaN</td>\n",
       "      <td>Chennai Super Kings</td>\n",
       "    </tr>\n",
       "  </tbody>\n",
       "</table>\n",
       "</div>"
      ],
      "text/plain": [
       "        ID  innings  overs  ballnumber        batter           bowler  \\\n",
       "0  1254117        1      0           1    RD Gaikwad  Shakib Al Hasan   \n",
       "1  1254117        1      0           2  F du Plessis  Shakib Al Hasan   \n",
       "2  1254117        1      0           3  F du Plessis  Shakib Al Hasan   \n",
       "3  1254117        1      0           4    RD Gaikwad  Shakib Al Hasan   \n",
       "4  1254117        1      0           5    RD Gaikwad  Shakib Al Hasan   \n",
       "\n",
       "    non-striker extra_type  batsman_run  extras_run  total_run  non_boundary  \\\n",
       "0  F du Plessis        NaN            1           0          1             0   \n",
       "1    RD Gaikwad        NaN            0           0          0             0   \n",
       "2    RD Gaikwad        NaN            1           0          1             0   \n",
       "3  F du Plessis        NaN            4           0          4             0   \n",
       "4  F du Plessis        NaN            0           0          0             0   \n",
       "\n",
       "   isWicketDelivery player_out kind fielders_involved          BattingTeam  \n",
       "0                 0        NaN  NaN               NaN  Chennai Super Kings  \n",
       "1                 0        NaN  NaN               NaN  Chennai Super Kings  \n",
       "2                 0        NaN  NaN               NaN  Chennai Super Kings  \n",
       "3                 0        NaN  NaN               NaN  Chennai Super Kings  \n",
       "4                 0        NaN  NaN               NaN  Chennai Super Kings  "
      ]
     },
     "execution_count": 4,
     "metadata": {},
     "output_type": "execute_result"
    }
   ],
   "source": [
    "balls.head()"
   ]
  },
  {
   "cell_type": "code",
   "execution_count": 5,
   "id": "b659206c",
   "metadata": {
    "execution": {
     "iopub.execute_input": "2022-03-28T20:17:55.065111Z",
     "iopub.status.busy": "2022-03-28T20:17:55.064497Z",
     "iopub.status.idle": "2022-03-28T20:17:55.088549Z",
     "shell.execute_reply": "2022-03-28T20:17:55.089063Z",
     "shell.execute_reply.started": "2022-03-28T19:43:35.961869Z"
    },
    "papermill": {
     "duration": 0.042129,
     "end_time": "2022-03-28T20:17:55.089236",
     "exception": false,
     "start_time": "2022-03-28T20:17:55.047107",
     "status": "completed"
    },
    "tags": []
   },
   "outputs": [
    {
     "data": {
      "text/html": [
       "<div>\n",
       "<style scoped>\n",
       "    .dataframe tbody tr th:only-of-type {\n",
       "        vertical-align: middle;\n",
       "    }\n",
       "\n",
       "    .dataframe tbody tr th {\n",
       "        vertical-align: top;\n",
       "    }\n",
       "\n",
       "    .dataframe thead th {\n",
       "        text-align: right;\n",
       "    }\n",
       "</style>\n",
       "<table border=\"1\" class=\"dataframe\">\n",
       "  <thead>\n",
       "    <tr style=\"text-align: right;\">\n",
       "      <th></th>\n",
       "      <th>ID</th>\n",
       "      <th>City</th>\n",
       "      <th>Date</th>\n",
       "      <th>Season</th>\n",
       "      <th>MatchNumber</th>\n",
       "      <th>Team1</th>\n",
       "      <th>Team2</th>\n",
       "      <th>Venue</th>\n",
       "      <th>TossWinner</th>\n",
       "      <th>TossDecision</th>\n",
       "      <th>SuperOver</th>\n",
       "      <th>WinningTeam</th>\n",
       "      <th>WonBy</th>\n",
       "      <th>Margin</th>\n",
       "      <th>method</th>\n",
       "      <th>Player_of_Match</th>\n",
       "      <th>Team1Players</th>\n",
       "      <th>Team2Players</th>\n",
       "      <th>Umpire1</th>\n",
       "      <th>Umpire2</th>\n",
       "    </tr>\n",
       "  </thead>\n",
       "  <tbody>\n",
       "    <tr>\n",
       "      <th>0</th>\n",
       "      <td>1254117</td>\n",
       "      <td>Dubai</td>\n",
       "      <td>2021-10-15</td>\n",
       "      <td>2021</td>\n",
       "      <td>Final</td>\n",
       "      <td>Chennai Super Kings</td>\n",
       "      <td>Kolkata Knight Riders</td>\n",
       "      <td>Dubai International Cricket Stadium</td>\n",
       "      <td>Kolkata Knight Riders</td>\n",
       "      <td>field</td>\n",
       "      <td>N</td>\n",
       "      <td>Chennai Super Kings</td>\n",
       "      <td>Runs</td>\n",
       "      <td>27.0</td>\n",
       "      <td>NaN</td>\n",
       "      <td>F du Plessis</td>\n",
       "      <td>['RD Gaikwad', 'F du Plessis', 'RV Uthappa', '...</td>\n",
       "      <td>['Shubman Gill', 'VR Iyer', 'N Rana', 'SP Nari...</td>\n",
       "      <td>Nitin Menon</td>\n",
       "      <td>RK Illingworth</td>\n",
       "    </tr>\n",
       "    <tr>\n",
       "      <th>1</th>\n",
       "      <td>1254116</td>\n",
       "      <td>Sharjah</td>\n",
       "      <td>2021-10-13</td>\n",
       "      <td>2021</td>\n",
       "      <td>Qualifier 2</td>\n",
       "      <td>Delhi Capitals</td>\n",
       "      <td>Kolkata Knight Riders</td>\n",
       "      <td>Sharjah Cricket Stadium</td>\n",
       "      <td>Kolkata Knight Riders</td>\n",
       "      <td>field</td>\n",
       "      <td>N</td>\n",
       "      <td>Kolkata Knight Riders</td>\n",
       "      <td>Wickets</td>\n",
       "      <td>3.0</td>\n",
       "      <td>NaN</td>\n",
       "      <td>VR Iyer</td>\n",
       "      <td>['PP Shaw', 'S Dhawan', 'MP Stoinis', 'SS Iyer...</td>\n",
       "      <td>['Shubman Gill', 'VR Iyer', 'N Rana', 'RA Trip...</td>\n",
       "      <td>KN Ananthapadmanabhan</td>\n",
       "      <td>MA Gough</td>\n",
       "    </tr>\n",
       "    <tr>\n",
       "      <th>2</th>\n",
       "      <td>1254115</td>\n",
       "      <td>Sharjah</td>\n",
       "      <td>2021-10-11</td>\n",
       "      <td>2021</td>\n",
       "      <td>Eliminator</td>\n",
       "      <td>Royal Challengers Bangalore</td>\n",
       "      <td>Kolkata Knight Riders</td>\n",
       "      <td>Sharjah Cricket Stadium</td>\n",
       "      <td>Royal Challengers Bangalore</td>\n",
       "      <td>bat</td>\n",
       "      <td>N</td>\n",
       "      <td>Kolkata Knight Riders</td>\n",
       "      <td>Wickets</td>\n",
       "      <td>4.0</td>\n",
       "      <td>NaN</td>\n",
       "      <td>SP Narine</td>\n",
       "      <td>['D Padikkal', 'V Kohli', 'KS Bharat', 'GJ Max...</td>\n",
       "      <td>['Shubman Gill', 'VR Iyer', 'RA Tripathi', 'N ...</td>\n",
       "      <td>CB Gaffaney</td>\n",
       "      <td>VK Sharma</td>\n",
       "    </tr>\n",
       "    <tr>\n",
       "      <th>3</th>\n",
       "      <td>1254114</td>\n",
       "      <td>Dubai</td>\n",
       "      <td>2021-10-10</td>\n",
       "      <td>2021</td>\n",
       "      <td>Qualifier 1</td>\n",
       "      <td>Delhi Capitals</td>\n",
       "      <td>Chennai Super Kings</td>\n",
       "      <td>Dubai International Cricket Stadium</td>\n",
       "      <td>Chennai Super Kings</td>\n",
       "      <td>field</td>\n",
       "      <td>N</td>\n",
       "      <td>Chennai Super Kings</td>\n",
       "      <td>Wickets</td>\n",
       "      <td>4.0</td>\n",
       "      <td>NaN</td>\n",
       "      <td>RD Gaikwad</td>\n",
       "      <td>['PP Shaw', 'S Dhawan', 'SS Iyer', 'AR Patel',...</td>\n",
       "      <td>['RD Gaikwad', 'F du Plessis', 'RV Uthappa', '...</td>\n",
       "      <td>Nitin Menon</td>\n",
       "      <td>RK Illingworth</td>\n",
       "    </tr>\n",
       "    <tr>\n",
       "      <th>4</th>\n",
       "      <td>1254088</td>\n",
       "      <td>Abu Dhabi</td>\n",
       "      <td>2021-10-08</td>\n",
       "      <td>2021</td>\n",
       "      <td>55</td>\n",
       "      <td>Mumbai Indians</td>\n",
       "      <td>Sunrisers Hyderabad</td>\n",
       "      <td>Zayed Cricket Stadium, Abu Dhabi</td>\n",
       "      <td>Mumbai Indians</td>\n",
       "      <td>bat</td>\n",
       "      <td>N</td>\n",
       "      <td>Mumbai Indians</td>\n",
       "      <td>Runs</td>\n",
       "      <td>42.0</td>\n",
       "      <td>NaN</td>\n",
       "      <td>Ishan Kishan</td>\n",
       "      <td>['RG Sharma', 'Ishan Kishan', 'HH Pandya', 'KA...</td>\n",
       "      <td>['JJ Roy', 'Abhishek Sharma', 'MK Pandey', 'Mo...</td>\n",
       "      <td>Tapan Sharma</td>\n",
       "      <td>VK Sharma</td>\n",
       "    </tr>\n",
       "  </tbody>\n",
       "</table>\n",
       "</div>"
      ],
      "text/plain": [
       "        ID       City        Date Season  MatchNumber  \\\n",
       "0  1254117      Dubai  2021-10-15   2021        Final   \n",
       "1  1254116    Sharjah  2021-10-13   2021  Qualifier 2   \n",
       "2  1254115    Sharjah  2021-10-11   2021   Eliminator   \n",
       "3  1254114      Dubai  2021-10-10   2021  Qualifier 1   \n",
       "4  1254088  Abu Dhabi  2021-10-08   2021           55   \n",
       "\n",
       "                         Team1                  Team2  \\\n",
       "0          Chennai Super Kings  Kolkata Knight Riders   \n",
       "1               Delhi Capitals  Kolkata Knight Riders   \n",
       "2  Royal Challengers Bangalore  Kolkata Knight Riders   \n",
       "3               Delhi Capitals    Chennai Super Kings   \n",
       "4               Mumbai Indians    Sunrisers Hyderabad   \n",
       "\n",
       "                                 Venue                   TossWinner  \\\n",
       "0  Dubai International Cricket Stadium        Kolkata Knight Riders   \n",
       "1              Sharjah Cricket Stadium        Kolkata Knight Riders   \n",
       "2              Sharjah Cricket Stadium  Royal Challengers Bangalore   \n",
       "3  Dubai International Cricket Stadium          Chennai Super Kings   \n",
       "4     Zayed Cricket Stadium, Abu Dhabi               Mumbai Indians   \n",
       "\n",
       "  TossDecision SuperOver            WinningTeam    WonBy  Margin method  \\\n",
       "0        field         N    Chennai Super Kings     Runs    27.0    NaN   \n",
       "1        field         N  Kolkata Knight Riders  Wickets     3.0    NaN   \n",
       "2          bat         N  Kolkata Knight Riders  Wickets     4.0    NaN   \n",
       "3        field         N    Chennai Super Kings  Wickets     4.0    NaN   \n",
       "4          bat         N         Mumbai Indians     Runs    42.0    NaN   \n",
       "\n",
       "  Player_of_Match                                       Team1Players  \\\n",
       "0    F du Plessis  ['RD Gaikwad', 'F du Plessis', 'RV Uthappa', '...   \n",
       "1         VR Iyer  ['PP Shaw', 'S Dhawan', 'MP Stoinis', 'SS Iyer...   \n",
       "2       SP Narine  ['D Padikkal', 'V Kohli', 'KS Bharat', 'GJ Max...   \n",
       "3      RD Gaikwad  ['PP Shaw', 'S Dhawan', 'SS Iyer', 'AR Patel',...   \n",
       "4    Ishan Kishan  ['RG Sharma', 'Ishan Kishan', 'HH Pandya', 'KA...   \n",
       "\n",
       "                                        Team2Players                Umpire1  \\\n",
       "0  ['Shubman Gill', 'VR Iyer', 'N Rana', 'SP Nari...            Nitin Menon   \n",
       "1  ['Shubman Gill', 'VR Iyer', 'N Rana', 'RA Trip...  KN Ananthapadmanabhan   \n",
       "2  ['Shubman Gill', 'VR Iyer', 'RA Tripathi', 'N ...            CB Gaffaney   \n",
       "3  ['RD Gaikwad', 'F du Plessis', 'RV Uthappa', '...            Nitin Menon   \n",
       "4  ['JJ Roy', 'Abhishek Sharma', 'MK Pandey', 'Mo...           Tapan Sharma   \n",
       "\n",
       "          Umpire2  \n",
       "0  RK Illingworth  \n",
       "1        MA Gough  \n",
       "2       VK Sharma  \n",
       "3  RK Illingworth  \n",
       "4       VK Sharma  "
      ]
     },
     "execution_count": 5,
     "metadata": {},
     "output_type": "execute_result"
    }
   ],
   "source": [
    "matches.head()"
   ]
  },
  {
   "cell_type": "code",
   "execution_count": 6,
   "id": "2b4bf8a2",
   "metadata": {
    "execution": {
     "iopub.execute_input": "2022-03-28T20:17:55.123527Z",
     "iopub.status.busy": "2022-03-28T20:17:55.122574Z",
     "iopub.status.idle": "2022-03-28T20:17:55.148084Z",
     "shell.execute_reply": "2022-03-28T20:17:55.148627Z",
     "shell.execute_reply.started": "2022-03-28T19:44:19.516650Z"
    },
    "papermill": {
     "duration": 0.044308,
     "end_time": "2022-03-28T20:17:55.148804",
     "exception": false,
     "start_time": "2022-03-28T20:17:55.104496",
     "status": "completed"
    },
    "tags": []
   },
   "outputs": [
    {
     "name": "stdout",
     "output_type": "stream",
     "text": [
      "<class 'pandas.core.frame.DataFrame'>\n",
      "RangeIndex: 876 entries, 0 to 875\n",
      "Data columns (total 20 columns):\n",
      " #   Column           Non-Null Count  Dtype  \n",
      "---  ------           --------------  -----  \n",
      " 0   ID               876 non-null    int64  \n",
      " 1   City             825 non-null    object \n",
      " 2   Date             876 non-null    object \n",
      " 3   Season           876 non-null    object \n",
      " 4   MatchNumber      876 non-null    object \n",
      " 5   Team1            876 non-null    object \n",
      " 6   Team2            876 non-null    object \n",
      " 7   Venue            876 non-null    object \n",
      " 8   TossWinner       876 non-null    object \n",
      " 9   TossDecision     876 non-null    object \n",
      " 10  SuperOver        872 non-null    object \n",
      " 11  WinningTeam      872 non-null    object \n",
      " 12  WonBy            876 non-null    object \n",
      " 13  Margin           858 non-null    float64\n",
      " 14  method           19 non-null     object \n",
      " 15  Player_of_Match  872 non-null    object \n",
      " 16  Team1Players     876 non-null    object \n",
      " 17  Team2Players     876 non-null    object \n",
      " 18  Umpire1          876 non-null    object \n",
      " 19  Umpire2          876 non-null    object \n",
      "dtypes: float64(1), int64(1), object(18)\n",
      "memory usage: 137.0+ KB\n"
     ]
    }
   ],
   "source": [
    "matches.info()"
   ]
  },
  {
   "cell_type": "code",
   "execution_count": 7,
   "id": "eebd9af1",
   "metadata": {
    "execution": {
     "iopub.execute_input": "2022-03-28T20:17:55.191567Z",
     "iopub.status.busy": "2022-03-28T20:17:55.190745Z",
     "iopub.status.idle": "2022-03-28T20:17:55.194015Z",
     "shell.execute_reply": "2022-03-28T20:17:55.194498Z",
     "shell.execute_reply.started": "2022-03-28T20:04:18.629511Z"
    },
    "papermill": {
     "duration": 0.029924,
     "end_time": "2022-03-28T20:17:55.194673",
     "exception": false,
     "start_time": "2022-03-28T20:17:55.164749",
     "status": "completed"
    },
    "tags": []
   },
   "outputs": [
    {
     "data": {
      "text/plain": [
       "WinningTeam\n",
       "Chennai Super Kings            117\n",
       "Deccan Chargers                 29\n",
       "Delhi Capitals                  29\n",
       "Delhi Daredevils                67\n",
       "Gujarat Lions                   13\n",
       "Kings XI Punjab                 88\n",
       "Kochi Tuskers Kerala             6\n",
       "Kolkata Knight Riders          108\n",
       "Mumbai Indians                 127\n",
       "Pune Warriors                   12\n",
       "Punjab Kings                     6\n",
       "Rajasthan Royals                86\n",
       "Rising Pune Supergiant          10\n",
       "Rising Pune Supergiants          5\n",
       "Royal Challengers Bangalore    100\n",
       "Sunrisers Hyderabad             69\n",
       "Name: WinningTeam, dtype: int64"
      ]
     },
     "execution_count": 7,
     "metadata": {},
     "output_type": "execute_result"
    }
   ],
   "source": [
    "winning_team=matches.groupby(\"WinningTeam\")[\"WinningTeam\"].agg(np.size)\n",
    "winning_team"
   ]
  },
  {
   "cell_type": "markdown",
   "id": "4c72ac22",
   "metadata": {
    "papermill": {
     "duration": 0.015802,
     "end_time": "2022-03-28T20:17:55.226638",
     "exception": false,
     "start_time": "2022-03-28T20:17:55.210836",
     "status": "completed"
    },
    "tags": []
   },
   "source": [
    "**What is the percentage of wins of each team?**"
   ]
  },
  {
   "cell_type": "code",
   "execution_count": 8,
   "id": "5a4ec927",
   "metadata": {
    "execution": {
     "iopub.execute_input": "2022-03-28T20:17:55.262986Z",
     "iopub.status.busy": "2022-03-28T20:17:55.262050Z",
     "iopub.status.idle": "2022-03-28T20:17:55.269684Z",
     "shell.execute_reply": "2022-03-28T20:17:55.270149Z",
     "shell.execute_reply.started": "2022-03-28T20:05:02.131969Z"
    },
    "papermill": {
     "duration": 0.027256,
     "end_time": "2022-03-28T20:17:55.270320",
     "exception": false,
     "start_time": "2022-03-28T20:17:55.243064",
     "status": "completed"
    },
    "tags": []
   },
   "outputs": [
    {
     "data": {
      "text/plain": [
       "WinningTeam\n",
       "Chennai Super Kings            13.417431\n",
       "Deccan Chargers                 3.325688\n",
       "Delhi Capitals                  3.325688\n",
       "Delhi Daredevils                7.683486\n",
       "Gujarat Lions                   1.490826\n",
       "Kings XI Punjab                10.091743\n",
       "Kochi Tuskers Kerala            0.688073\n",
       "Kolkata Knight Riders          12.385321\n",
       "Mumbai Indians                 14.564220\n",
       "Pune Warriors                   1.376147\n",
       "Punjab Kings                    0.688073\n",
       "Rajasthan Royals                9.862385\n",
       "Rising Pune Supergiant          1.146789\n",
       "Rising Pune Supergiants         0.573394\n",
       "Royal Challengers Bangalore    11.467890\n",
       "Sunrisers Hyderabad             7.912844\n",
       "Name: WinningTeam, dtype: float64"
      ]
     },
     "execution_count": 8,
     "metadata": {},
     "output_type": "execute_result"
    }
   ],
   "source": [
    "percentage=(winning_team/winning_team.sum())*100\n",
    "percentage\n",
    "# Mumbai Indians has the highest winning rate followed by Cennai Super Kings and Kolkata Knight Riders.\n",
    "# Wors team is Punjab Kings"
   ]
  },
  {
   "cell_type": "markdown",
   "id": "0a5cbf05",
   "metadata": {
    "papermill": {
     "duration": 0.016234,
     "end_time": "2022-03-28T20:17:55.302981",
     "exception": false,
     "start_time": "2022-03-28T20:17:55.286747",
     "status": "completed"
    },
    "tags": []
   },
   "source": [
    "**Which venue results in a win for Batting first team and vice versa?**"
   ]
  },
  {
   "cell_type": "markdown",
   "id": "f51ef11e",
   "metadata": {
    "papermill": {
     "duration": 0.016038,
     "end_time": "2022-03-28T20:17:55.335391",
     "exception": false,
     "start_time": "2022-03-28T20:17:55.319353",
     "status": "completed"
    },
    "tags": []
   },
   "source": [
    "......CONTINUED"
   ]
  },
  {
   "cell_type": "code",
   "execution_count": null,
   "id": "0bfe3651",
   "metadata": {
    "papermill": {
     "duration": 0.016712,
     "end_time": "2022-03-28T20:17:55.368562",
     "exception": false,
     "start_time": "2022-03-28T20:17:55.351850",
     "status": "completed"
    },
    "tags": []
   },
   "outputs": [],
   "source": []
  }
 ],
 "metadata": {
  "kernelspec": {
   "display_name": "Python 3",
   "language": "python",
   "name": "python3"
  },
  "language_info": {
   "codemirror_mode": {
    "name": "ipython",
    "version": 3
   },
   "file_extension": ".py",
   "mimetype": "text/x-python",
   "name": "python",
   "nbconvert_exporter": "python",
   "pygments_lexer": "ipython3",
   "version": "3.7.12"
  },
  "papermill": {
   "default_parameters": {},
   "duration": 11.772068,
   "end_time": "2022-03-28T20:17:55.995773",
   "environment_variables": {},
   "exception": null,
   "input_path": "__notebook__.ipynb",
   "output_path": "__notebook__.ipynb",
   "parameters": {},
   "start_time": "2022-03-28T20:17:44.223705",
   "version": "2.3.3"
  }
 },
 "nbformat": 4,
 "nbformat_minor": 5
}
